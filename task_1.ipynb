{
 "cells": [
  {
   "cell_type": "code",
   "execution_count": 1,
   "outputs": [
    {
     "name": "stdout",
     "output_type": "stream",
     "text": [
      "The number of students who received at least one excellent mark is 32\n"
     ]
    }
   ],
   "source": [
    "from dataclasses import dataclass\n",
    "\n",
    "@dataclass\n",
    "class Counting_Honors:\n",
    "    mathematics: int\n",
    "    physics: int\n",
    "    chemistry: int\n",
    "    mathematics_physics: int\n",
    "    mathematics_chemistry: int\n",
    "    physics_chemistry: int\n",
    "    all_three_disciplines: int\n",
    "\n",
    "\n",
    "    def count_students_with_one_good_mark(self) -> str:\n",
    "        result = (self.mathematics +\n",
    "                  self.physics +\n",
    "                  self.chemistry -\n",
    "                  (self.mathematics_physics +\n",
    "                   self.mathematics_chemistry +\n",
    "                   self.physics_chemistry) +\n",
    "                  self.all_three_disciplines)\n",
    "        return f\"The number of students who received at least one excellent mark is {result}\"\n",
    "\n",
    "\n",
    "students = Counting_Honors(15, 16, 19, 7, 9, 6, 4)\n",
    "print(students.count_students_with_one_good_mark())\n"
   ],
   "metadata": {
    "collapsed": false
   }
  },
  {
   "cell_type": "code",
   "execution_count": null,
   "outputs": [],
   "source": [],
   "metadata": {
    "collapsed": false
   }
  }
 ],
 "metadata": {
  "kernelspec": {
   "display_name": "Python 3",
   "language": "python",
   "name": "python3"
  },
  "language_info": {
   "codemirror_mode": {
    "name": "ipython",
    "version": 2
   },
   "file_extension": ".py",
   "mimetype": "text/x-python",
   "name": "python",
   "nbconvert_exporter": "python",
   "pygments_lexer": "ipython2",
   "version": "2.7.6"
  }
 },
 "nbformat": 4,
 "nbformat_minor": 0
}
