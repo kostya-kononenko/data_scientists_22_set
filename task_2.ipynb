{
 "cells": [
  {
   "cell_type": "code",
   "execution_count": 1,
   "metadata": {
    "collapsed": true
   },
   "outputs": [
    {
     "name": "stdout",
     "output_type": "stream",
     "text": [
      "The weather was good 15 days\n"
     ]
    }
   ],
   "source": [
    "from dataclasses import dataclass\n",
    "\n",
    "@dataclass\n",
    "class Nice_Weather_In_September:\n",
    "    rain_day: int\n",
    "    wind_day: int\n",
    "    cold_day: int\n",
    "    rain_wind_day: int\n",
    "    rain_cold_day: int\n",
    "    wind_cold_day: int\n",
    "    rain_wind_cold_day: int\n",
    "    total_days: int\n",
    "\n",
    "    def count_good_weather(self) -> str:\n",
    "        result = (self.total_days -\n",
    "                  (self.rain_day +\n",
    "                   self.wind_day +\n",
    "                   self.cold_day -\n",
    "                   (self.rain_wind_day +\n",
    "                    self.rain_cold_day +\n",
    "                    self.wind_cold_day) +\n",
    "                   self.rain_wind_cold_day))\n",
    "        return f\"The weather was good {result} days\"\n",
    "\n",
    "\n",
    "days = Nice_Weather_In_September(12, 8, 4, 5, 3, 2, 1, 30)\n",
    "print(days.count_good_weather())"
   ]
  },
  {
   "cell_type": "code",
   "execution_count": null,
   "outputs": [],
   "source": [],
   "metadata": {
    "collapsed": false
   }
  }
 ],
 "metadata": {
  "kernelspec": {
   "display_name": "Python 3",
   "language": "python",
   "name": "python3"
  },
  "language_info": {
   "codemirror_mode": {
    "name": "ipython",
    "version": 2
   },
   "file_extension": ".py",
   "mimetype": "text/x-python",
   "name": "python",
   "nbconvert_exporter": "python",
   "pygments_lexer": "ipython2",
   "version": "2.7.6"
  }
 },
 "nbformat": 4,
 "nbformat_minor": 0
}
